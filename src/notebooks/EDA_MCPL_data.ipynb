{
 "cells": [
  {
   "cell_type": "markdown",
   "metadata": {},
   "source": [
    "## Imports"
   ]
  },
  {
   "cell_type": "code",
   "execution_count": null,
   "metadata": {},
   "outputs": [],
   "source": [
    "%cd ../.."
   ]
  },
  {
   "cell_type": "code",
   "execution_count": null,
   "metadata": {},
   "outputs": [],
   "source": [
    "import pandas as pd\n",
    "import seaborn as sns\n",
    "from scipy.stats import norm\n",
    "import numpy as np\n",
    "import matplotlib.pyplot as plt\n",
    "\n",
    "from src.config_variables import MCPL_data_name, RAW_DATA_PATH\n",
    "from src.utils.files import get_json_from_file_path"
   ]
  },
  {
   "cell_type": "markdown",
   "metadata": {},
   "source": [
    "## Load data as pandas DataFrame"
   ]
  },
  {
   "cell_type": "code",
   "execution_count": null,
   "metadata": {},
   "outputs": [],
   "source": [
    "# Load the raw data in pandas DataFrame\n",
    "MCPL_data_path = f'{RAW_DATA_PATH}/{MCPL_data_name}.json'\n",
    "print(RAW_DATA_PATH)\n",
    "MCPL_dataset = get_json_from_file_path(MCPL_data_path)\n",
    "MCPL_dataset_df = pd.DataFrame.from_dict(MCPL_dataset)\n",
    "MCPL_dataset_df.head()"
   ]
  },
  {
   "cell_type": "markdown",
   "metadata": {},
   "source": [
    "## Relationship between variables"
   ]
  },
  {
   "cell_type": "code",
   "execution_count": null,
   "metadata": {},
   "outputs": [],
   "source": [
    "# Create feature 'ratio_cols_rows'\n",
    "ratio_cols_rows = MCPL_dataset_df.cols_number/MCPL_dataset_df.rows_number\n",
    "MCPL_dataset_df[\"ratio_cols_rows\"] = ratio_cols_rows\n",
    "# Show correlation between the variables\n",
    "sns.heatmap(MCPL_dataset_df.corr(), annot=True, fmt=\".2f\", cmap=\"YlGnBu\")"
   ]
  },
  {
   "cell_type": "code",
   "execution_count": null,
   "metadata": {},
   "outputs": [],
   "source": [
    "sns.pairplot(MCPL_dataset_df)"
   ]
  },
  {
   "cell_type": "markdown",
   "metadata": {},
   "source": [
    "## Distribution of max_char_per_line variable"
   ]
  },
  {
   "cell_type": "code",
   "execution_count": null,
   "metadata": {},
   "outputs": [],
   "source": [
    "# Histogram\n",
    "sns.distplot(MCPL_dataset_df['max_char_per_line'])"
   ]
  },
  {
   "cell_type": "code",
   "execution_count": null,
   "metadata": {},
   "outputs": [],
   "source": [
    "# Numpy fuction log1p which applies log(1+x) to all elements of the column\n",
    "sns.distplot(np.log1p(MCPL_dataset_df.max_char_per_line) , fit=norm)"
   ]
  },
  {
   "cell_type": "code",
   "execution_count": null,
   "metadata": {},
   "outputs": [],
   "source": [
    "#MCPL_log = np.log1p(MCPL_data_df.max_char_per_line)\n",
    "#MCPL_log\n",
    "#np.expm1(MCPL_log)"
   ]
  },
  {
   "cell_type": "code",
   "execution_count": null,
   "metadata": {},
   "outputs": [],
   "source": [
    "import scipy.stats as stats\n",
    "stats.probplot(MCPL_dataset_df.max_char_per_line, dist=\"norm\", plot=plt)\n",
    "plt.show()"
   ]
  }
 ],
 "metadata": {
  "language_info": {
   "codemirror_mode": {
    "name": "ipython",
    "version": 3
   },
   "file_extension": ".py",
   "mimetype": "text/x-python",
   "name": "python",
   "nbconvert_exporter": "python",
   "pygments_lexer": "ipython3",
   "version": 3
  },
  "orig_nbformat": 2,
  "kernelspec": {
   "name": "python_defaultSpec_1612900210632",
   "display_name": "Python 3.6.9 64-bit"
  }
 },
 "nbformat": 4,
 "nbformat_minor": 2
}